{
 "cells": [
  {
   "cell_type": "code",
   "execution_count": 11,
   "metadata": {},
   "outputs": [],
   "source": [
    "import numpy as np\n",
    "import matplotlib.pyplot as plt\n",
    "import multiresolutionimageinterface as mir\n",
    "from skimage import transform\n",
    "import skimage.morphology as mp\n",
    "import cv2\n",
    "import os\n",
    "def write_mask(id, thresh = .4):\n",
    "    print(id)\n",
    "    step_size= 256\n",
    "    writer = mir.MultiResolutionImageWriter()\n",
    "    if not os.path.exists('test/mask4'):\n",
    "        os.mkdir('test/mask4/')\n",
    "    writer.openFile(f'test/mask4/{id}_mask.tiff')\n",
    "    import openslide\n",
    "    reader = openslide.OpenSlide(f'/home/data/ACDC/test/{id}.tif')\n",
    "    #print(reader.dimensions)\n",
    "    writer.setTileSize(step_size)\n",
    "    writer.setCompression(mir.LZW)\n",
    "    writer.setDataType(mir.UChar)\n",
    "    writer.setInterpolation(mir.NearestNeighbor)\n",
    "    writer.setColorType(mir.Monochrome)\n",
    "    writer.writeImageInformation(reader.dimensions[0],reader.dimensions[1])\n",
    "    maxy = reader.dimensions[0]\n",
    "    maxx = reader.dimensions[1]\n",
    "    #print(maxx,maxy)\n",
    "    for rp in os.listdir(f'test/{id}/'):\n",
    "        #print(rp)\n",
    "        if not rp.endswith('.npy'):\n",
    "            continue\n",
    "        [xmin, ymin, xmax, ymax]=map(int, rp[:-4].split('_'))\n",
    "#         xmin += 96\n",
    "#         ymin += 96\n",
    "#         xmax -= 96\n",
    "#         ymax -= 96\n",
    "        prediction = np.load(f'test/{id}/'+rp)\n",
    "        #prediction = cv2.morphologyEx(prediction, cv2.MORPH_CLOSE, np.ones((7,7)))\n",
    "        #prediction = cv2.morphologyEx(prediction, cv2.MORPH_OPEN, np.ones((3,3)))\n",
    "        prediction = mp.remove_small_objects(prediction>thresh, min_size=7, connectivity=1)\n",
    "        prediction = mp.remove_small_holes(prediction>thresh,min_size=7)  \n",
    "\n",
    "        post = np.zeros((xmax-xmin, ymax-ymin))\n",
    "        for i in range(prediction.shape[0]):\n",
    "            for j in range(prediction.shape[1]):\n",
    "                post[122+i*32, 122+j*32]=prediction[i,j]\n",
    "        post = mp.dilation(post, mp.square(33))>thresh\n",
    "        \n",
    "#         post = cv2.morphologyEx(post, cv2.MORPH_OPEN, np.ones((33,33)))\n",
    "#         post = cv2.morphologyEx(post, cv2.MORPH_CLOSE, np.ones((65,65)))\n",
    "#         post = (post>0.5)\n",
    "#         post = mp.remove_small_objects(post, min_size=100, connectivity=1)\n",
    "#         post = mp.remove_small_holes(post,min_size=100)      \n",
    "#         post = post>0.5\n",
    "        #print(\"post processed...\")\n",
    "        \n",
    "        post = post.astype('ubyte')\n",
    "        kx = xmin%step_size\n",
    "        kx2 = step_size-xmax%step_size\n",
    "        ky = ymin%step_size\n",
    "        ky2 = step_size-ymax%step_size\n",
    "        new_xmin = xmin - xmin%step_size\n",
    "        new_xmax = xmax - xmax%step_size + step_size\n",
    "        new_ymin = ymin - ymin%step_size\n",
    "        new_ymax = ymax - ymax%step_size + step_size\n",
    "        new_post = np.zeros((new_xmax-new_xmin,new_ymax-new_ymin)).astype(\"ubyte\")\n",
    "        new_post[kx:-kx2,ky:-ky2]=post\n",
    "        post = new_post\n",
    "        for x in range(xmin,min(maxx, xmin+post.shape[0])-step_size, step_size):\n",
    "            for y in range(ymin,min(maxy, ymin+post.shape[1])-step_size, step_size):\n",
    "                write = post[(x-xmin):(x-xmin+step_size),(y-ymin):(y-ymin+step_size)]\n",
    "                writer.writeBaseImagePartToLocation(write.flatten(), y, x)              \n",
    "    writer.finishImage()"
   ]
  },
  {
   "cell_type": "code",
   "execution_count": 12,
   "metadata": {
    "scrolled": true
   },
   "outputs": [
    {
     "name": "stdout",
     "output_type": "stream",
     "text": [
      "19\n"
     ]
    },
    {
     "name": "stderr",
     "output_type": "stream",
     "text": [
      "/home/power/anaconda3/lib/python3.6/site-packages/skimage/morphology/misc.py:207: UserWarning: the min_size argument is deprecated and will be removed in 0.16. Use area_threshold instead.\n",
      "  \"0.16. Use area_threshold instead.\")\n"
     ]
    }
   ],
   "source": [
    "for i in range(1,51):\n",
    "    i=19\n",
    "    write_mask(i, thresh=1)\n",
    "    break"
   ]
  },
  {
   "cell_type": "code",
   "execution_count": 14,
   "metadata": {},
   "outputs": [
    {
     "data": {
      "text/plain": [
       "<matplotlib.image.AxesImage at 0x7fad3ff839e8>"
      ]
     },
     "execution_count": 14,
     "metadata": {},
     "output_type": "execute_result"
    },
    {
     "data": {
      "image/png": "[encoded data removed]",
      "text/plain": [
       "<Figure size 720x720 with 1 Axes>"
      ]
     },
     "metadata": {},
     "output_type": "display_data"
    }
   ],
   "source": [
    "import openslide\n",
    "import multiresolutionimageinterface as mir\n",
    "import matplotlib.pyplot as plt\n",
    "rmask = mir.MultiResolutionImageReader()\n",
    "rmask = rmask.open('test/mask4/19_mask.tiff')\n",
    "width, height = rmask.getLevelDimensions(3)\n",
    "mask = rmask.getUCharPatch(0, 0, width, height, 3)\n",
    "plt.figure(figsize=(10,10))\n",
    "plt.imshow(mask[:,:,0])"
   ]
  }
 ],
 "metadata": {
  "kernelspec": {
   "display_name": "Python 3",
   "language": "python",
   "name": "python3"
  },
  "language_info": {
   "codemirror_mode": {
    "name": "ipython",
    "version": 3
   },
   "file_extension": ".py",
   "mimetype": "text/x-python",
   "name": "python",
   "nbconvert_exporter": "python",
   "pygments_lexer": "ipython3",
   "version": "3.6.5"
  }
 },
 "nbformat": 4,
 "nbformat_minor": 2
}
